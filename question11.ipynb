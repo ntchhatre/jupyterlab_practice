{
 "cells": [
  {
   "cell_type": "markdown",
   "id": "8b0e6f36",
   "metadata": {},
   "source": [
    "# Neha Chhatre Elder\n",
    "Notebook for assignment 7"
   ]
  },
  {
   "cell_type": "code",
   "execution_count": 1,
   "id": "abcbcea4",
   "metadata": {},
   "outputs": [
    {
     "name": "stdout",
     "output_type": "stream",
     "text": [
      "5.0\n"
     ]
    }
   ],
   "source": [
    "def compute_mean(list_):\n",
    "    '''\n",
    "    Computes the mean of values in a list and prints the results.\n",
    "    '''\n",
    "    import numpy as np\n",
    "    print(np.mean(list_))\n",
    "    return\n",
    "\n",
    "compute_mean([2,4,6,8])"
   ]
  },
  {
   "cell_type": "markdown",
   "id": "e5e6958b",
   "metadata": {},
   "source": [
    "The function **compute_mean()** calculates the mean and prints the result. The following is the equation used to compute the mean.\n",
    "\n",
    "$$ \\bar{x} = \\frac{x_1 + x_2 + \\cdot \\cdot \\cdot + x_n}{n} =  \\frac{1}{n}\\left(\\sum_{i=1}^{n} x_i\\right)$$"
   ]
  }
 ],
 "metadata": {
  "kernelspec": {
   "display_name": "Python 3 (ipykernel)",
   "language": "python",
   "name": "python3"
  },
  "language_info": {
   "codemirror_mode": {
    "name": "ipython",
    "version": 3
   },
   "file_extension": ".py",
   "mimetype": "text/x-python",
   "name": "python",
   "nbconvert_exporter": "python",
   "pygments_lexer": "ipython3",
   "version": "3.10.18"
  }
 },
 "nbformat": 4,
 "nbformat_minor": 5
}
